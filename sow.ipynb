from pyspark.sql import SparkSession
import querys

# Inicializando a sessão Spark
spark = SparkSession.builder.appName("QueryExample").getOrCreate()

# Executando a primeira query
result_df = spark.sql(querys.Querys.query_1('2021-01'))
result_df.show()

# Executando a segunda query
result_df = spark.sql(querys.Querys.query_2('2021-02'))
result_df.show()

# Continue com as outras células para as demais queries
